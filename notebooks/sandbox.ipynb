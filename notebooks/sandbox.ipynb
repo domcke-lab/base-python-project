{
 "cells": [
  {
   "cell_type": "code",
   "execution_count": 1,
   "id": "2a67619f",
   "metadata": {},
   "outputs": [],
   "source": [
    "# This cryptic bit of code configures this notebook to\n",
    "# automatically reload any imported modules if their\n",
    "# contents change. This is very handy if you are actively\n",
    "# developing and need to make changes to the code in your\n",
    "# package and test them in this notebook. This cell only\n",
    "# needs to be run once per kernel restart.\n",
    "%load_ext autoreload\n",
    "%autoreload 2"
   ]
  },
  {
   "cell_type": "code",
   "execution_count": 3,
   "id": "85c8c07f",
   "metadata": {},
   "outputs": [],
   "source": [
    "from myPackage import myAnalysisTools as my"
   ]
  },
  {
   "cell_type": "code",
   "execution_count": 4,
   "id": "da75f8dc",
   "metadata": {},
   "outputs": [
    {
     "data": {
      "text/plain": [
       "3"
      ]
     },
     "execution_count": 4,
     "metadata": {},
     "output_type": "execute_result"
    }
   ],
   "source": [
    "my.add_one(2)"
   ]
  }
 ],
 "metadata": {
  "kernelspec": {
   "display_name": ".venv",
   "language": "python",
   "name": "python3"
  },
  "language_info": {
   "codemirror_mode": {
    "name": "ipython",
    "version": 3
   },
   "file_extension": ".py",
   "mimetype": "text/x-python",
   "name": "python",
   "nbconvert_exporter": "python",
   "pygments_lexer": "ipython3",
   "version": "3.12.6"
  }
 },
 "nbformat": 4,
 "nbformat_minor": 5
}
